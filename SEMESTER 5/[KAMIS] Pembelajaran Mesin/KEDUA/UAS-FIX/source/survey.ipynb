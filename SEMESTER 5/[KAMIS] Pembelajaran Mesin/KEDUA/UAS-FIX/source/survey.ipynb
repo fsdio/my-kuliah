{
 "cells": [
  {
   "attachments": {},
   "cell_type": "markdown",
   "metadata": {},
   "source": [
    "#### Rahmat Sunjani   [ 55201120030 ]"
   ]
  },
  {
   "attachments": {},
   "cell_type": "markdown",
   "metadata": {},
   "source": [
    "##### Modify Dataset"
   ]
  },
  {
   "cell_type": "code",
   "execution_count": null,
   "metadata": {},
   "outputs": [],
   "source": [
    "import pandas as pd\n",
    "# url = 'https://bit.ly/3tZGkAR'\n",
    "url = '../kaggle-survey-2022/kaggle_survey_2022_responses.csv'\n",
    "df = pd.read_csv(url)\n",
    "df = df.rename(columns= {'Duration (in seconds)':'Q1'})\n",
    "\n",
    "## change to view all collum use\n",
    "df = df[['Q1', 'Q2', 'Q3', 'Q4', 'Q5', 'Q6_1', 'Q6_2', 'Q6_3', 'Q6_4', 'Q6_7', 'Q6_8', 'Q11', 'Q23', 'Q24']]\n",
    "\n",
    "## change name to view all collum use\n",
    "df = df.rename(columns={'Q1':'duration', 'Q2':'age', 'Q3':'gender', 'Q4':'country', 'Q5':'educational_status','Q6_1':'coursera', 'Q6_2':'edX', 'Q6_3':'kaggle', 'Q6_4':'datacamp', 'Q6_7':'udemy', 'Q6_8':'linkedIn', 'Q11':'writing_code_year', 'Q23':'current_role', 'Q24':'current_industry'})[1:]\n",
    "\n",
    "# Custom data Courses\n",
    "courses = df[['coursera', 'edX', 'kaggle', 'datacamp', 'udemy', 'linkedIn']]"
   ]
  },
  {
   "attachments": {},
   "cell_type": "markdown",
   "metadata": {},
   "source": [
    "##### Soal 1"
   ]
  },
  {
   "cell_type": "code",
   "execution_count": null,
   "metadata": {},
   "outputs": [],
   "source": [
    "# 1. Menampilkan data berdasarkan country terbanyak pengunjung survey.\n",
    "\n",
    "soal_1 = ff = df[df['country'] != 'Other']\n",
    "df[['age', 'gender', 'educational_status', 'country', 'duration']]\n",
    "# CARI DATA COUNTRY\n",
    "country_10 = soal_1['country'].value_counts()[:5]\n",
    "\n",
    "import matplotlib.pyplot as plt\n",
    "import numpy as np\n",
    "fig = plt.figure()\n",
    "fig.patch.set_facecolor('lightblue')  # type: ignore\n",
    "\n",
    "def addlabels(x,y):\n",
    "    for i in range(len(x)):\n",
    "        plt.text(i,y[i],y[i])\n",
    "        \n",
    "x = country_10.index.tolist()\n",
    "y = country_10.tolist()\n",
    "plt.xlabel('COUNTRY')\n",
    "plt.ylabel('DURATION ( MINUTE )')\n",
    "plt.title('Top 5 Country 2020')\n",
    "plt.grid(True)\n",
    "plt.plot(x, y,color='brown')\n",
    "addlabels(x, y)\n",
    "plt.show()\n",
    "\n",
    "print(f'\\n\\n=== Top 5 Negara Pengunjung Terbanyak ===\\n\\n{country_10}')"
   ]
  },
  {
   "attachments": {},
   "cell_type": "markdown",
   "metadata": {},
   "source": [
    "##### Soal 2"
   ]
  },
  {
   "cell_type": "code",
   "execution_count": null,
   "metadata": {},
   "outputs": [],
   "source": [
    "# 2. Menampilkan data age berdasarkan platforms_courses.\n",
    "\n",
    "join = df[['gender', 'coursera', 'edX', 'kaggle', 'datacamp', 'udemy', 'linkedIn']]\n",
    "\n",
    "coursera = join[(df['coursera'] == 'Coursera') & ((df['gender']=='Man') | (df['gender']=='Woman'))]\n",
    "M_coursera = coursera['gender'][coursera['gender'] == 'Man'].count()\n",
    "W_coursera = coursera['gender'][coursera['gender'] == 'Woman'].count()\n",
    "\n",
    "edX = join[(df['edX'] == 'edX') & ((df['gender']=='Man') | (df['gender']=='Woman'))]\n",
    "M_edX = edX['gender'][edX['gender'] == 'Man'].count()\n",
    "W_edX = edX['gender'][edX['gender'] == 'Woman'].count()\n",
    "\n",
    "kaggle = join[(df['kaggle'] == 'Kaggle Learn Courses') & ((df['gender']=='Man') | (df['gender']=='Woman'))]\n",
    "M_kaggle = kaggle['gender'][kaggle['gender'] == 'Man'].count()\n",
    "W_kaggle = kaggle['gender'][kaggle['gender'] == 'Woman'].count()\n",
    "\n",
    "datacamp = join[(df['datacamp'] == 'DataCamp') & ((df['gender']=='Man') | (df['gender']=='Woman'))]\n",
    "M_datacamp  = datacamp['gender'][datacamp['gender'] == 'Man'].count()\n",
    "W_datacamp  = datacamp['gender'][datacamp['gender'] == 'Woman'].count()\n",
    "\n",
    "udemy = join[(df['udemy'] == 'Udemy') & ((df['gender']=='Man') | (df['gender']=='Woman'))]\n",
    "M_udemy  = udemy['gender'][udemy['gender'] == 'Man'].count()\n",
    "W_udemy  = udemy['gender'][udemy['gender'] == 'Woman'].count()\n",
    "\n",
    "linkedIn = join[(df['linkedIn'] == 'LinkedIn Learning') & ((df['gender']=='Man') | (df['gender']=='Woman'))]\n",
    "M_linkedIn  = linkedIn['gender'][linkedIn['gender'] == 'Man'].count()\n",
    "W_linkedIn  = linkedIn['gender'][linkedIn['gender'] == 'Woman'].count()\n",
    "\n",
    "import matplotlib.pyplot as plt\n",
    "import numpy as np\n",
    "\n",
    "\n",
    "labels = courses.columns.to_list() # 6\n",
    "men_means = [M_coursera, M_edX, M_kaggle, M_datacamp, M_udemy, M_linkedIn]\n",
    "women_means = [W_coursera, W_edX, W_kaggle, W_datacamp, W_udemy, W_linkedIn]\n",
    "\n",
    "x = np.arange(len(labels))  # the label locations\n",
    "width = 0.5  # the width of the bars\n",
    "\n",
    "fig, ax = plt.subplots()\n",
    "rects1 = ax.bar(x - (width/2), men_means, width, label='Men')\n",
    "rects2 = ax.bar(x + (width/2), women_means, width, label='Women')\n",
    "\n",
    "# Add some text for labels, title and custom x-axis tick labels, etc.\n",
    "ax.set_ylabel('People with Gender')\n",
    "ax.set_xlabel('Platforms Courses')\n",
    "ax.set_title('Scores by group Platforms Courses and gender 2020')\n",
    "ax.set_xticks(x, labels)\n",
    "ax.legend()\n",
    "\n",
    "ax.bar_label(rects1, padding=3)\n",
    "ax.bar_label(rects2, padding=3)\n",
    "fig.tight_layout()\n",
    "plt.show()\n",
    "\n",
    "print('\\n=== Jumlah Gender Menurut Platform Courses ===')\n",
    "print('\\nCOURSERA : \\n')\n",
    "print(coursera['gender'].value_counts())\n",
    "print('\\nEDX : \\n')\n",
    "print(edX['gender'].value_counts())\n",
    "print('\\nKAGGLE : \\n')\n",
    "print(kaggle['gender'].value_counts())\n",
    "print('\\nDATACAMP : \\n')\n",
    "print(datacamp['gender'].value_counts())\n",
    "print('\\nUDEMY : \\n')\n",
    "print(udemy['gender'].value_counts())\n",
    "print('\\nLINKEDIN: \\n')\n",
    "print(linkedIn['gender'].value_counts())"
   ]
  },
  {
   "attachments": {},
   "cell_type": "markdown",
   "metadata": {},
   "source": [
    "##### Soal 3"
   ]
  },
  {
   "cell_type": "code",
   "execution_count": null,
   "metadata": {},
   "outputs": [],
   "source": [
    "## 3. Tampilkan age pengguna yang paling banyak menggunakan platfrom courses\n",
    "GG = df[(df['age'] != '50-54') & (df['age'] != '55-59') & (df['age'] != '60-69') & (df['age'] != '70+')]\n",
    "GG = GG['age'].value_counts()\n",
    "\n",
    "import numpy as np\n",
    "import matplotlib.pyplot as plt\n",
    "\n",
    "fig, ax = plt.subplots(figsize=(10,15), subplot_kw=dict(aspect=\"equal\"))\n",
    "data = GG.tolist()\n",
    "ingredients = GG.index.tolist()\n",
    "\n",
    "def func(pct, allvals):\n",
    "    absolute = int(np.round(pct/100.*np.sum(allvals)))\n",
    "    return \"{:.1f}%\\n({:d} People)\".format(pct, absolute)\n",
    "\n",
    "wedges, texts, autotexts = ax.pie(data, autopct=lambda pct: func(pct, data), textprops=dict(color=\"w\"))\n",
    "ax.legend(wedges, ingredients, title=\"Rentang Usia\", loc=\"center left\", bbox_to_anchor=(1, 0, 0.5, 1))\n",
    "plt.setp(autotexts, size=8, weight=\"bold\")\n",
    "ax.set_title(\"RENTANG UMUR YANG ISI SURVEY 2020\")\n",
    "plt.show()\n",
    "\n",
    "print(f'\\n=== DATA RENTANG UMUR YANG ISI SURVEY 2020 ===\\n\\n{GG}\\n')"
   ]
  },
  {
   "attachments": {},
   "cell_type": "markdown",
   "metadata": {},
   "source": [
    "##### Soal 4"
   ]
  },
  {
   "cell_type": "code",
   "execution_count": null,
   "metadata": {},
   "outputs": [],
   "source": [
    "## 4. Menampilkan data educational_status berdasarkan current_industry\n",
    "\n",
    "soal_4 = df[df['current_industry'] != 'Other']\n",
    "soal_4 = soal_4[['educational_status','current_industry']]\n",
    "soal_4['current_industry'].value_counts()[:5]\n",
    "hasil = soal_4['current_industry'].value_counts()[:5]\n",
    "\n",
    "import matplotlib.pyplot as plt\n",
    "import numpy as np\n",
    "\n",
    "fig = plt.figure()\n",
    "ax = fig.add_axes([0,0,1.3,1.3])\n",
    "fig.patch.set_facecolor('yellow')  # type: ignore\n",
    "\n",
    "y = hasil.tolist()\n",
    "x = hasil.index.tolist()\n",
    "\n",
    "plt.xlabel('Pekerjaan Saat Ini')\n",
    "plt.ylabel('Jumlah Yang Pernah/Sudah Menjalani Pendidikan')\n",
    "ax.set_facecolor(\"azure\")\n",
    "\n",
    "plt.title('Current Industry')\n",
    "plt.grid(True)\n",
    "plt.plot(x,y, marker = 'o',color='darkgreen')\n",
    "addlabels(x, y)\n",
    "plt.show()\n",
    "\n",
    "print(hasil)"
   ]
  },
  {
   "attachments": {},
   "cell_type": "markdown",
   "metadata": {},
   "source": [
    "##### Soal 5"
   ]
  },
  {
   "cell_type": "code",
   "execution_count": null,
   "metadata": {},
   "outputs": [],
   "source": [
    "## 5. Menampilkan data writing_code_year berdasarkan current_industry (Computers/Technology)\n",
    "soal_5 = df[['current_industry', 'writing_code_year']]\n",
    "soal_5 = soal_5[df['current_industry'] == 'Computers/Technology']\n",
    "hey = soal_5['writing_code_year'].value_counts()\n",
    "hey.tolist()\n",
    "\n",
    "import matplotlib.pyplot as plt\n",
    "import numpy as np\n",
    "\n",
    "fig = plt.figure()\n",
    "fig.patch.set_facecolor('Orange')  # type: ignore\n",
    "def addlabels(x,y):\n",
    "    for i in range(len(x)):\n",
    "        plt.text(i,y[i],y[i])\n",
    "\n",
    "x = hey.index.tolist()\n",
    "y = hey.tolist()\n",
    "\n",
    "ax = plt.axes()\n",
    "ax = fig.add_axes([0,0,1.4,1.4])\n",
    "ax.set_facecolor(\"azure\")\n",
    "plt.title('Menampilkan data writing_code_year berdasarkan current_industry (Computers/Technology)')\n",
    "plt.scatter(x, y,color='green',marker = ',')  # type: ignore\n",
    "plt.xlabel('Menulis Source Code Dalam Per Tahun')\n",
    "plt.ylabel('Banyaknya Orang')\n",
    "\n",
    "addlabels(x, y)\n",
    "plt.show()"
   ]
  },
  {
   "attachments": {},
   "cell_type": "markdown",
   "metadata": {},
   "source": [
    "##### LABEL ENCODER"
   ]
  },
  {
   "cell_type": "code",
   "execution_count": null,
   "metadata": {},
   "outputs": [],
   "source": [
    "from sklearn import preprocessing\n",
    "from sklearn.preprocessing import LabelEncoder\n",
    "LE = LabelEncoder()\n",
    "\n",
    "dataLabel3 = df[['country', 'current_role']] #'writing_code_year'\n",
    "dataHasil = dataLabel3.apply(preprocessing.LabelEncoder().fit_transform) # type: ignore\n",
    "dataHasil.apply(LE.fit_transform)\n",
    "# dataHasil.dtypes"
   ]
  },
  {
   "attachments": {},
   "cell_type": "markdown",
   "metadata": {},
   "source": [
    "##### K-MEANS CLUSTERING"
   ]
  },
  {
   "cell_type": "code",
   "execution_count": null,
   "metadata": {},
   "outputs": [],
   "source": [
    "# datahasil ambil dari label_encoder\n",
    "data = dataHasil.values\n",
    "from sklearn.cluster import KMeans\n",
    "sum_cluster = 5\n",
    "kmeans = KMeans(n_clusters=sum_cluster,init=\"k-means++\",n_init=10,random_state=101)\n",
    "y_pred = kmeans.fit_predict(data)\n",
    "\n",
    "plt.figure(figsize=(10,7))\n",
    "\n",
    "for i in range(sum_cluster):\n",
    "    plt.scatter(data[y_pred == i,0],data[y_pred == i,1], s=100)\n",
    "    \n",
    "plt.scatter(kmeans.cluster_centers_[:,0],kmeans.cluster_centers_[:,1], s=300)\n",
    "\n",
    "plt.title(\"KMEANS CLUSTERING\")\n",
    "plt.xlabel(\"Country\")\n",
    "plt.ylabel(\"Sub-Category\")\n",
    "plt.show()"
   ]
  },
  {
   "attachments": {},
   "cell_type": "markdown",
   "metadata": {},
   "source": [
    "##### Elbow Method"
   ]
  },
  {
   "cell_type": "code",
   "execution_count": null,
   "metadata": {},
   "outputs": [],
   "source": [
    "from sklearn.cluster import KMeans\n",
    "import matplotlib.pyplot as plt\n",
    "import numpy as np\n",
    "\n",
    "wcss = []\n",
    "count_clas = 20 # Variabel\n",
    "for i in range(1,count_clas):\n",
    "  kmeans = KMeans(n_clusters=i,init=\"k-means++\",n_init=10,random_state=101)\n",
    "  kmeans.fit(data)\n",
    "  wcss.append(kmeans.inertia_)\n",
    "  \n",
    "plt.figure(figsize=(count_clas,7))\n",
    "plt.plot(range(1,count_clas),wcss)\n",
    "plt.title(\"ELBOW METHOD\")\n",
    "plt.grid(True)\n",
    "plt.xlabel(\"Banyaknya Cluster\")\n",
    "plt.ylabel(\"Banyaknya Error\")\n",
    "plt.show()"
   ]
  },
  {
   "cell_type": "code",
   "execution_count": null,
   "metadata": {},
   "outputs": [],
   "source": [
    "X = dataHasil.apply(LE.fit_transform)\n",
    "kmeans = KMeans(n_clusters=5, random_state=0).fit(X)\n",
    "len(kmeans.labels_) # type: ignore"
   ]
  },
  {
   "attachments": {},
   "cell_type": "markdown",
   "metadata": {},
   "source": [
    "##### SILLHOUTTE PLOT"
   ]
  },
  {
   "cell_type": "code",
   "execution_count": null,
   "metadata": {},
   "outputs": [],
   "source": [
    "# Silhouette Coefficient\n",
    "from yellowbrick.cluster import silhouette_visualizer\n",
    "from yellowbrick.datasets import load_credit\n",
    "import seaborn as sns"
   ]
  },
  {
   "cell_type": "code",
   "execution_count": null,
   "metadata": {},
   "outputs": [],
   "source": [
    "import sklearn.metrics as metrics\n",
    "import sklearn.cluster as cluster\n",
    "\n",
    "# MENAMPILKAN 3 SAMPAI N\n",
    "n = 10\n",
    "for i in range(3,n):\n",
    "    labels=cluster.KMeans(n_clusters=i,init='k-means++',random_state=101).fit(dataHasil).labels_\n",
    "    print(\"Silhouette score = \"+str(i)+\"is\" +str(metrics.silhouette_score(dataHasil,labels,metric=\"euclidean\",sample_size=1000,random_state=101)))"
   ]
  },
  {
   "cell_type": "code",
   "execution_count": null,
   "metadata": {},
   "outputs": [],
   "source": [
    "import seaborn as sns\n",
    "from sklearn import preprocessing\n",
    "from sklearn.preprocessing import LabelEncoder\n",
    "\n",
    "kmeans2 = KMeans(n_clusters=4,init = \"k-means++\")\n",
    "kmeans3 = kmeans2.fit(dataHasil)\n",
    "dataHasil['Clusters']=kmeans.labels_\n",
    "sns.scatterplot(x='country', y='current_role',hue='Clusters',data=dataHasil)"
   ]
  },
  {
   "cell_type": "code",
   "execution_count": null,
   "metadata": {},
   "outputs": [],
   "source": [
    "X, y = load_credit()\n",
    "\n",
    "silhouette_visualizer(KMeans(6, random_state=42), X, colors='yellowbrick')"
   ]
  }
 ],
 "metadata": {
  "kernelspec": {
   "display_name": "base",
   "language": "python",
   "name": "python3"
  },
  "language_info": {
   "codemirror_mode": {
    "name": "ipython",
    "version": 3
   },
   "file_extension": ".py",
   "mimetype": "text/x-python",
   "name": "python",
   "nbconvert_exporter": "python",
   "pygments_lexer": "ipython3",
   "version": "3.9.13"
  },
  "orig_nbformat": 4,
  "vscode": {
   "interpreter": {
    "hash": "ad2bdc8ecc057115af97d19610ffacc2b4e99fae6737bb82f5d7fb13d2f2c186"
   }
  }
 },
 "nbformat": 4,
 "nbformat_minor": 2
}
