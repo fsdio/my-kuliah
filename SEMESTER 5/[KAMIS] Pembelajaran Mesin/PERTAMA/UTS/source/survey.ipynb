{
 "cells": [
  {
   "cell_type": "markdown",
   "metadata": {},
   "source": [
    "# Tugas klasifikasi\n",
    "## Rahmat Sunjani [ 55201120030 ]\n",
    "## Putri Avrilya [ 55201120030 ]"
   ]
  },
  {
   "cell_type": "code",
   "execution_count": null,
   "metadata": {},
   "outputs": [],
   "source": [
    "import pandas as pd\n",
    "# url = 'https://bit.ly/3tZGkAR'\n",
    "url = '../kaggle-survey-2022/kaggle_survey_2022_responses.csv'\n",
    "df = pd.read_csv(url)\n",
    "df = df.rename(columns= {'Duration (in seconds)':'Q1'})"
   ]
  },
  {
   "cell_type": "code",
   "execution_count": null,
   "metadata": {},
   "outputs": [],
   "source": [
    "## change to view all collum use\n",
    "df = df[['Q1', 'Q2', 'Q3', 'Q4', 'Q5', 'Q6_1', 'Q6_2', 'Q6_3', 'Q6_4', 'Q6_7', 'Q6_8', 'Q11', 'Q23', 'Q24']]"
   ]
  },
  {
   "cell_type": "code",
   "execution_count": null,
   "metadata": {},
   "outputs": [],
   "source": [
    "## change name to view all collum use\n",
    "df = df.rename(columns={'Q1':'duration', 'Q2':'age', 'Q3':'gender', 'Q4':'country', 'Q5':'educational_status','Q6_1':'coursera', 'Q6_2':'edX', 'Q6_3':'kaggle', 'Q6_4':'datacamp', 'Q6_7':'udemy', 'Q6_8':'linkedIn', 'Q11':'writing_code_year', 'Q23':'current_role', 'Q24':'current_industry'})[1:]"
   ]
  },
  {
   "cell_type": "code",
   "execution_count": null,
   "metadata": {},
   "outputs": [],
   "source": [
    "courses = df[['coursera', 'edX', 'kaggle', 'datacamp', 'udemy', 'linkedIn']]\n",
    "print(courses)#.columns.tolist()"
   ]
  },
  {
   "cell_type": "code",
   "execution_count": null,
   "metadata": {},
   "outputs": [],
   "source": [
    "# cek data null atau kosong ( namun data lain bisa digunakan )\n",
    "df.isna().sum()"
   ]
  },
  {
   "cell_type": "code",
   "execution_count": null,
   "metadata": {},
   "outputs": [],
   "source": [
    "# Cek Data Type\n",
    "df.dtypes"
   ]
  },
  {
   "cell_type": "code",
   "execution_count": null,
   "metadata": {},
   "outputs": [],
   "source": [
    "# 1. Menampilkan data berdasarkan country terbanyak pengunjung survey.\n",
    "soal_1 = ff = df[df['country'] != 'Other']\n",
    "df[['age', 'gender', 'educational_status', 'country', 'duration']]\n",
    "# CARI DATA COUNTRY\n",
    "country_10 = soal_1['country'].value_counts()[:5]\n",
    "\n",
    "import matplotlib.pyplot as plt\n",
    "import numpy as np\n",
    "fig = plt.figure()\n",
    "fig.patch.set_facecolor('lightblue')  # type: ignore\n",
    "def addlabels(x,y):\n",
    "    for i in range(len(x)):\n",
    "        plt.text(i,y[i],y[i])\n",
    "x = country_10.index.tolist()\n",
    "y = country_10.tolist()\n",
    "plt.xlabel('COUNTRY')\n",
    "plt.ylabel('DURATION ( MINUTE )')\n",
    "plt.title('Top 5 Country 2020')\n",
    "plt.grid(True)\n",
    "plt.plot(x, y,color='brown')\n",
    "addlabels(x, y)\n",
    "plt.show()\n",
    "\n",
    "print(f'\\n\\n=== Top 5 Negara Pengunjung Terbanyak ===\\n\\n{country_10}')\n",
    "print(f'\\n\\n===== INSIGHT =====\\n\\n')\n"
   ]
  },
  {
   "cell_type": "code",
   "execution_count": null,
   "metadata": {},
   "outputs": [],
   "source": [
    "# 2. Menampilkan data age berdasarkan platforms_courses.\n",
    "\n",
    "join = df[['gender', 'coursera', 'edX', 'kaggle', 'datacamp', 'udemy', 'linkedIn']]\n",
    "\n",
    "coursera = join[(df['coursera'] == 'Coursera') & ((df['gender']=='Man') | (df['gender']=='Woman'))]\n",
    "M_coursera = coursera['gender'][coursera['gender'] == 'Man'].count()\n",
    "W_coursera = coursera['gender'][coursera['gender'] == 'Woman'].count()\n",
    "\n",
    "edX = join[(df['edX'] == 'edX') & ((df['gender']=='Man') | (df['gender']=='Woman'))]\n",
    "M_edX = edX['gender'][edX['gender'] == 'Man'].count()\n",
    "W_edX = edX['gender'][edX['gender'] == 'Woman'].count()\n",
    "\n",
    "kaggle = join[(df['kaggle'] == 'Kaggle Learn Courses') & ((df['gender']=='Man') | (df['gender']=='Woman'))]\n",
    "M_kaggle = kaggle['gender'][kaggle['gender'] == 'Man'].count()\n",
    "W_kaggle = kaggle['gender'][kaggle['gender'] == 'Woman'].count()\n",
    "\n",
    "datacamp = join[(df['datacamp'] == 'DataCamp') & ((df['gender']=='Man') | (df['gender']=='Woman'))]\n",
    "M_datacamp  = datacamp['gender'][datacamp['gender'] == 'Man'].count()\n",
    "W_datacamp  = datacamp['gender'][datacamp['gender'] == 'Woman'].count()\n",
    "\n",
    "udemy = join[(df['udemy'] == 'Udemy') & ((df['gender']=='Man') | (df['gender']=='Woman'))]\n",
    "M_udemy  = udemy['gender'][udemy['gender'] == 'Man'].count()\n",
    "W_udemy  = udemy['gender'][udemy['gender'] == 'Woman'].count()\n",
    "\n",
    "linkedIn = join[(df['linkedIn'] == 'LinkedIn Learning') & ((df['gender']=='Man') | (df['gender']=='Woman'))]\n",
    "M_linkedIn  = linkedIn['gender'][linkedIn['gender'] == 'Man'].count()\n",
    "W_linkedIn  = linkedIn['gender'][linkedIn['gender'] == 'Woman'].count()\n",
    "\n",
    "import matplotlib.pyplot as plt\n",
    "import numpy as np\n",
    "\n",
    "\n",
    "labels = courses.columns.to_list() # 6\n",
    "men_means = [M_coursera, M_edX, M_kaggle, M_datacamp, M_udemy, M_linkedIn]\n",
    "women_means = [W_coursera, W_edX, W_kaggle, W_datacamp, W_udemy, W_linkedIn]\n",
    "\n",
    "x = np.arange(len(labels))  # the label locations\n",
    "width = 0.5  # the width of the bars\n",
    "\n",
    "fig, ax = plt.subplots()\n",
    "rects1 = ax.bar(x - (width/2), men_means, width, label='Men')\n",
    "rects2 = ax.bar(x + (width/2), women_means, width, label='Women')\n",
    "\n",
    "# Add some text for labels, title and custom x-axis tick labels, etc.\n",
    "ax.set_ylabel('People with Gender')\n",
    "ax.set_xlabel('Platforms Courses')\n",
    "ax.set_title('Scores by group Platforms Courses and gender 2020')\n",
    "ax.set_xticks(x, labels)\n",
    "ax.legend()\n",
    "\n",
    "ax.bar_label(rects1, padding=3)\n",
    "ax.bar_label(rects2, padding=3)\n",
    "fig.tight_layout()\n",
    "plt.show()\n",
    "\n",
    "print('\\n=== Jumlah Gender Menurut Platform Courses ===')\n",
    "print('\\nCOURSERA : \\n')\n",
    "print(coursera['gender'].value_counts())\n",
    "print('\\nEDX : \\n')\n",
    "print(edX['gender'].value_counts())\n",
    "print('\\nKAGGLE : \\n')\n",
    "print(kaggle['gender'].value_counts())\n",
    "print('\\nDATACAMP : \\n')\n",
    "print(datacamp['gender'].value_counts())\n",
    "print('\\nUDEMY : \\n')\n",
    "print(udemy['gender'].value_counts())\n",
    "print('\\nLINKEDIN: \\n')\n",
    "print(linkedIn['gender'].value_counts())\n",
    "\n",
    "print(f'\\n\\n===== INSIGHT =====\\n\\n')"
   ]
  },
  {
   "cell_type": "code",
   "execution_count": null,
   "metadata": {},
   "outputs": [],
   "source": [
    "## 3. Tampilkan age pengguna yang paling banyak menggunakan platfrom courses\n",
    "GG = df['age'].value_counts()\n",
    "\n",
    "import numpy as np\n",
    "import matplotlib.pyplot as plt\n",
    "\n",
    "fig, ax = plt.subplots(figsize=(15,20), subplot_kw=dict(aspect=\"equal\"))\n",
    "data = GG.tolist()\n",
    "ingredients = GG.index.tolist()\n",
    "\n",
    "def func(pct, allvals):\n",
    "    absolute = int(np.round(pct/100.*np.sum(allvals)))\n",
    "    return \"{:.1f}%\\n({:d} People)\".format(pct, absolute)\n",
    "\n",
    "wedges, texts, autotexts = ax.pie(data, autopct=lambda pct: func(pct, data), textprops=dict(color=\"w\"))\n",
    "ax.legend(wedges, ingredients, title=\"Rentang Usia\", loc=\"center left\", bbox_to_anchor=(1, 0, 0.5, 1))\n",
    "plt.setp(autotexts, size=8, weight=\"bold\")\n",
    "ax.set_title(\"RENTANG UMUR YANG ISI SURVEY 2020\")\n",
    "plt.show()\n",
    "\n",
    "print(f'\\n=== DATA RENTANG UMUR YANG ISI SURVEY 2020 ===\\n\\n{GG}\\n')"
   ]
  },
  {
   "cell_type": "code",
   "execution_count": 100,
   "metadata": {},
   "outputs": [
    {
     "data": {
      "image/png": "[encoded data removed]",
      "text/plain": [
       "<Figure size 640x480 with 1 Axes>"
      ]
     },
     "metadata": {},
     "output_type": "display_data"
    },
    {
     "name": "stdout",
     "output_type": "stream",
     "text": [
      "Computers/Technology         2321\n",
      "Academics/Education          1447\n",
      "Accounting/Finance            802\n",
      "Manufacturing/Fabrication     561\n",
      "Medical/Pharmaceutical        509\n",
      "Name: current_industry, dtype: int64\n"
     ]
    }
   ],
   "source": [
    "## 4. Menampilkan data educational_status berdasarkan current_industry\n",
    "\n",
    "soal_4 = df[df['current_industry'] != 'Other']\n",
    "soal_4 = soal_4[['educational_status','current_industry']]\n",
    "soal_4['current_industry'].value_counts()[:5]\n",
    "hasil = soal_4['current_industry'].value_counts()[:5]\n",
    "\n",
    "\n",
    "import matplotlib.pyplot as plt\n",
    "import numpy as np\n",
    "\n",
    "fig = plt.figure()\n",
    "fig.patch.set_facecolor('yellow')  # type: ignore\n",
    "\n",
    "y = hasil.tolist()\n",
    "x = hasil.index.tolist()\n",
    "\n",
    "plt.xlabel('Pekerjaan Saat Ini')\n",
    "plt.ylabel('Jumlah Yang Pernah/Sudah Menjalani Pendidikan')\n",
    "ax.set_facecolor(\"azure\")\n",
    "\n",
    "plt.title('Country Code')\n",
    "plt.grid(True)\n",
    "plt.plot(x,y, marker = 'o',color='darkgreen')\n",
    "plt.show()\n",
    "\n",
    "print(hasil)"
   ]
  }
 ],
 "metadata": {
  "kernelspec": {
   "display_name": "Python 3.9.13 ('base')",
   "language": "python",
   "name": "python3"
  },
  "language_info": {
   "codemirror_mode": {
    "name": "ipython",
    "version": 3
   },
   "file_extension": ".py",
   "mimetype": "text/x-python",
   "name": "python",
   "nbconvert_exporter": "python",
   "pygments_lexer": "ipython3",
   "version": "3.9.13"
  },
  "orig_nbformat": 4,
  "vscode": {
   "interpreter": {
    "hash": "1c97120424180ba1fd5ad78e26dc1f80a788fce0de84da7b89111fadff0b5cca"
   }
  }
 },
 "nbformat": 4,
 "nbformat_minor": 2
}
